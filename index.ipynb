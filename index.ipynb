{
 "cells": [
  {
   "cell_type": "markdown",
   "metadata": {},
   "source": [
    "# Classes and Instances - Lab"
   ]
  },
  {
   "cell_type": "markdown",
   "metadata": {},
   "source": [
    "## Introduction\n",
    "Okay, we learned how to declare classes and create instances in our last lesson. Let's put these new skills to the test!"
   ]
  },
  {
   "cell_type": "markdown",
   "metadata": {},
   "source": [
    "## Objectives\n",
    "\n",
    "You will be able to:\n",
    "\n",
    "* Define classes\n",
    "* Instantiate instances of classes"
   ]
  },
  {
   "cell_type": "markdown",
   "metadata": {},
   "source": [
    "## Defining Classes\n"
   ]
  },
  {
   "cell_type": "markdown",
   "metadata": {},
   "source": [
    "Let's define a `Ride`, `Driver`, and `Passenger` class as these are all crucial parts to a single ride. We have provided files for you aptly named ride.py, driver.py, and passenger.py where you can define the appropriate classes. Below, we import the classes from those files so we can use them in our code. The import syntax in Python is as follows: the keyword `from` followed by the name of the file then the keyword `import` and finally the name of the object we are importing (i.e. `from` `[filename]` `import` `[object_name]`). The first import is done for you, follow its example to import the other two classes.\n",
    "\n",
    "> **Reminder:** *since we need to have some Python code in our class when we define it, we can simply write the keyword `pass` on the first line under our class definition*"
   ]
  },
  {
   "cell_type": "markdown",
   "metadata": {},
   "source": [
    "> **Note:** the next cell imports an extension, `autoreload`, from IPython which reloads our import just before we execute our code, so that if we make a change in one of our files (i.e. ride.py), that change will be reflected below. Don't worry about it right now, but know that it is just updating our imported code. To run it, remove the below `#`s and run the cell. After running the cell, add the `#`s back **before** running your tests as the `%` operator will cause errors."
   ]
  },
  {
   "cell_type": "code",
   "execution_count": null,
   "metadata": {},
   "outputs": [],
   "source": [
    "# %load_ext autoreload\n",
    "# %autoreload 2"
   ]
  },
  {
   "cell_type": "code",
   "execution_count": 3,
   "metadata": {},
   "outputs": [],
   "source": [
    "class Passenger:\n",
    "\n",
    "    def __init__(self, passenger_first_name, passenger_last_name, passenger_email):\n",
    "        self.passenger_first_name = passenger_first_name\n",
    "        self.passenger_last_name = passenger_last_name\n",
    "        self.passenger_email = passenger_email\n",
    "\n",
    "    def address(self, street, number, zip_code, city):\n",
    "        self.street = street\n",
    "        self.number = number\n",
    "        self.zip_code = zip_code\n",
    "        self.city = city\n",
    "        return \"The address is {} {} street, Zip Code {}, City {}\".format(self.number, self.street, self.zip_code, self.city)\n",
    "    \n",
    "    def payment_method(self, credit_card):\n",
    "        self.credit_card = credit_card"
   ]
  },
  {
   "cell_type": "code",
   "execution_count": 4,
   "metadata": {},
   "outputs": [],
   "source": [
    "class Driver:\n",
    "\n",
    "    def __init__(self, driver_first_name, driver_last_name, driver_email, driver_car, driver_license_number):\n",
    "        self.driver_first_name = driver_first_name\n",
    "        self.driver_last_name = driver_last_name\n",
    "        self.driver_email = driver_email\n",
    "        self.driver_car = driver_car\n",
    "        self.driver_license_number = driver_license_number"
   ]
  },
  {
   "cell_type": "code",
   "execution_count": 5,
   "metadata": {},
   "outputs": [],
   "source": [
    "class Ride(Passenger):\n",
    "\n",
    "    minimum_rating = 3\n",
    "\n",
    "    def __init__(self, distance, time, price):\n",
    "        self.distance = distance\n",
    "        self.time = time\n",
    "        self.price = price\n",
    "\n",
    "    def start_a_ride(self, pickup_location, driver_rating, passenger_first_name, passenger_last_name):\n",
    "        super().__init__(passenger_first_name, passenger_last_name)\n",
    "        self.driver_rating = driver_rating\n",
    "        self.pickup_location = pickup_location\n",
    "        if self.driver_rating < minimum_rating:\n",
    "            print(f\"{self.passenger_first_name} {self.passenger_last_name} has cancelled this trip\")\n",
    "        else:\n",
    "            print(f\" The pickup location is {self.pickup_location}\")\n",
    "\n",
    "    def end_a_ride(self, dropoff_location):\n",
    "        self.dropoff_location = dropoff_location\n",
    "        print(f\"You have arrived at your destination.\")\n",
    "    "
   ]
  },
  {
   "cell_type": "markdown",
   "metadata": {},
   "source": [
    "## Creating Instances"
   ]
  },
  {
   "cell_type": "markdown",
   "metadata": {},
   "source": [
    "Let's now practice using our classes to make instances of those classes. Make two instances of the Passenger class and assign them to the variables `meryl` and `daniel`, respectively."
   ]
  },
  {
   "cell_type": "code",
   "execution_count": 6,
   "metadata": {},
   "outputs": [
    {
     "ename": "TypeError",
     "evalue": "__init__() missing 3 required positional arguments: 'passenger_first_name', 'passenger_last_name', and 'passenger_email'",
     "output_type": "error",
     "traceback": [
      "\u001b[0;31m\u001b[0m",
      "\u001b[0;31mTypeError\u001b[0mTraceback (most recent call last)",
      "\u001b[0;32m<ipython-input-6-b70c05ff18c1>\u001b[0m in \u001b[0;36m<module>\u001b[0;34m()\u001b[0m\n\u001b[0;32m----> 1\u001b[0;31m \u001b[0mmeryl\u001b[0m \u001b[0;34m=\u001b[0m \u001b[0mPassenger\u001b[0m\u001b[0;34m(\u001b[0m\u001b[0;34m)\u001b[0m\u001b[0;34m\u001b[0m\u001b[0m\n\u001b[0m\u001b[1;32m      2\u001b[0m \u001b[0mdaniel\u001b[0m \u001b[0;34m=\u001b[0m \u001b[0mPassenger\u001b[0m\u001b[0;34m(\u001b[0m\u001b[0;34m)\u001b[0m\u001b[0;34m\u001b[0m\u001b[0m\n\u001b[1;32m      3\u001b[0m \u001b[0mprint\u001b[0m\u001b[0;34m(\u001b[0m\u001b[0mmeryl\u001b[0m\u001b[0;34m,\u001b[0m \u001b[0mdaniel\u001b[0m\u001b[0;34m)\u001b[0m\u001b[0;34m\u001b[0m\u001b[0m\n",
      "\u001b[0;31mTypeError\u001b[0m: __init__() missing 3 required positional arguments: 'passenger_first_name', 'passenger_last_name', and 'passenger_email'"
     ]
    }
   ],
   "source": [
    "meryl = Passenger()\n",
    "daniel = Passenger()\n",
    "print(meryl, daniel)"
   ]
  },
  {
   "cell_type": "markdown",
   "metadata": {},
   "source": [
    "Next, make one instance of the driver class and assign it to the variable, `flatiron_taxi`."
   ]
  },
  {
   "cell_type": "code",
   "execution_count": null,
   "metadata": {},
   "outputs": [],
   "source": [
    "flatiron_taxi = None\n",
    "print(flatiron_taxi)"
   ]
  },
  {
   "cell_type": "markdown",
   "metadata": {},
   "source": [
    "Finally, make two instances of the Ride class and assign them to `ride_to_school` and `ride_home`. "
   ]
  },
  {
   "cell_type": "code",
   "execution_count": null,
   "metadata": {
    "scrolled": true
   },
   "outputs": [],
   "source": [
    "ride_to_school = None\n",
    "ride_home = None\n",
    "print(ride_to_school, ride_home)"
   ]
  },
  {
   "cell_type": "markdown",
   "metadata": {},
   "source": [
    "## Summary\n",
    "Great! In this lab, we were able to define multiple classes and create instances of those classes."
   ]
  }
 ],
 "metadata": {
  "kernelspec": {
   "display_name": "Python 3",
   "language": "python",
   "name": "python3"
  },
  "language_info": {
   "codemirror_mode": {
    "name": "ipython",
    "version": 3
   },
   "file_extension": ".py",
   "mimetype": "text/x-python",
   "name": "python",
   "nbconvert_exporter": "python",
   "pygments_lexer": "ipython3",
   "version": "3.6.6"
  }
 },
 "nbformat": 4,
 "nbformat_minor": 2
}
